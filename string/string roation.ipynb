{
 "cells": [
  {
   "cell_type": "markdown",
   "metadata": {},
   "source": [
    "# A Program to check if strings are rotations of each other or not"
   ]
  },
  {
   "cell_type": "raw",
   "metadata": {},
   "source": [
    " ALGO:\n",
    " \n",
    " 1. Create a temp string and store concatenation of str1 to\n",
    "       str1 in temp.\n",
    "                          temp = str1.str1\n",
    "    2. If str2 is a substring of temp then str1 and str2 are \n",
    "       rotations of each other.\n",
    "\n",
    "    Example:                 \n",
    "                     str1 = \"ABACD\"\n",
    "                     str2 = \"CDABA\"\n",
    "\n",
    "     temp = str1.str1 = \"ABACDABACD\"\n",
    "     Since str2 is a substring of temp, str1 and str2 are \n",
    "     rotations of each other.\n"
   ]
  },
  {
   "cell_type": "code",
   "execution_count": 2,
   "metadata": {},
   "outputs": [
    {
     "name": "stdout",
     "output_type": "stream",
     "text": [
      "Strings are rotations of each other\n"
     ]
    }
   ],
   "source": [
    "def areRotations(string1, string2): \n",
    "    size1 = len(string1) \n",
    "    size2 = len(string2) \n",
    "    temp = '' \n",
    "  \n",
    "    # Check if sizes of two strings are same \n",
    "    if size1 != size2: \n",
    "        return 0\n",
    "  \n",
    "    # Create a temp string with value str1.str1 \n",
    "    temp = string1 + string1 \n",
    "  \n",
    "    # Now check if str2 is a substring of temp \n",
    "    # string.count returns the number of occurences of \n",
    "    # the second string in temp \n",
    "    if (temp.count(string2)> 0): \n",
    "        return 1\n",
    "    else: \n",
    "        return 0\n",
    "  \n",
    "\n",
    "string1 = \"AACD\"\n",
    "string2 = \"ACDA\"\n",
    "  \n",
    "if areRotations(string1, string2): \n",
    "    print (\"Strings are rotations of each other\")\n",
    "else: \n",
    "    print (\"Strings are not rotations of each other\")"
   ]
  },
  {
   "cell_type": "code",
   "execution_count": null,
   "metadata": {
    "collapsed": true
   },
   "outputs": [],
   "source": []
  }
 ],
 "metadata": {
  "kernelspec": {
   "display_name": "Python 3",
   "language": "python",
   "name": "python3"
  },
  "language_info": {
   "codemirror_mode": {
    "name": "ipython",
    "version": 3
   },
   "file_extension": ".py",
   "mimetype": "text/x-python",
   "name": "python",
   "nbconvert_exporter": "python",
   "pygments_lexer": "ipython3",
   "version": "3.6.3"
  }
 },
 "nbformat": 4,
 "nbformat_minor": 2
}
