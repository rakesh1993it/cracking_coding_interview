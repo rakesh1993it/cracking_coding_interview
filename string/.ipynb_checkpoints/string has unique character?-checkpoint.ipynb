{
 "cells": [
  {
   "cell_type": "markdown",
   "metadata": {},
   "source": [
    "\n",
    "# 1.Check the a string hase all unique character."
   ]
  },
  {
   "cell_type": "raw",
   "metadata": {},
   "source": [
    "ALGORITHM:\n",
    "    \n",
    "    1.Ceate a empty set\n",
    "    2. traverse the string\n",
    "    3. check the string in the set if exist then return return false else add that string into the set\n",
    "    4. return True"
   ]
  },
  {
   "cell_type": "code",
   "execution_count": 1,
   "metadata": {},
   "outputs": [
    {
     "data": {
      "text/plain": [
       "True"
      ]
     },
     "execution_count": 1,
     "metadata": {},
     "output_type": "execute_result"
    }
   ],
   "source": [
    "def unique_char(s):\n",
    "    unique = set()\n",
    "    for c in s:\n",
    "        if c in unique:\n",
    "            return False\n",
    "        unique.add(c)\n",
    "    return True\n",
    "\n",
    "test_1 = \"rakesh\"\n",
    "#s =input()\n",
    "unique_char(test_1)"
   ]
  },
  {
   "cell_type": "code",
   "execution_count": 2,
   "metadata": {},
   "outputs": [
    {
     "data": {
      "text/plain": [
       "True"
      ]
     },
     "execution_count": 2,
     "metadata": {},
     "output_type": "execute_result"
    }
   ],
   "source": [
    "# Another approach \n",
    "def unique(s):\n",
    "    return len(set(s)) == len(s)\n",
    "\n",
    "test_1 = \"rakesh\"\n",
    "unique(test_1)"
   ]
  },
  {
   "cell_type": "code",
   "execution_count": null,
   "metadata": {
    "collapsed": true
   },
   "outputs": [],
   "source": []
  }
 ],
 "metadata": {
  "kernelspec": {
   "display_name": "Python 3",
   "language": "python",
   "name": "python3"
  },
  "language_info": {
   "codemirror_mode": {
    "name": "ipython",
    "version": 3
   },
   "file_extension": ".py",
   "mimetype": "text/x-python",
   "name": "python",
   "nbconvert_exporter": "python",
   "pygments_lexer": "ipython3",
   "version": "3.6.3"
  }
 },
 "nbformat": 4,
 "nbformat_minor": 2
}
