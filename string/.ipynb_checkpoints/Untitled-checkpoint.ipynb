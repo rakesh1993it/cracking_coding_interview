{
 "cells": [
  {
   "cell_type": "markdown",
   "metadata": {},
   "source": [
    "# Check if edit distance between two strings is one"
   ]
  },
  {
   "cell_type": "raw",
   "metadata": {},
   "source": [
    "An edit between two strings is one of the following changes.\n",
    "\n",
    "   1. Add a character\n",
    "   2. Delete a character\n",
    "   3. Change a character\n"
   ]
  },
  {
   "cell_type": "raw",
   "metadata": {},
   "source": [
    "Algo:\n",
    "    \n",
    "    step1 : The length difference between two input strings should not be more than 1.\n",
    "    step 2: When the length of the strings is same, the number of different chars should not be more than 1.\n",
    "    step 3: If the length difference is 1, then either one char can be inserted in the short string or \n",
    "            deleted from the longer string. Considering that, the number of different char should not be more than 1.\n"
   ]
  },
  {
   "cell_type": "code",
   "execution_count": 4,
   "metadata": {},
   "outputs": [
    {
     "name": "stdout",
     "output_type": "stream",
     "text": [
      "No\n"
     ]
    }
   ],
   "source": [
    "def isEditDistanceOne(s1, s2): \n",
    "    m = len(s1) \n",
    "    n = len(s2) \n",
    "  \n",
    "    # If difference between lengths is more than 1, \n",
    "    # then strings can't be at one distance \n",
    "    if abs(m - n) > 1: \n",
    "        return False \n",
    "  \n",
    "    count = 0    # Count of isEditDistanceOne \n",
    "  \n",
    "    i = 0\n",
    "    j = 0\n",
    "    while i < m and j < n: \n",
    "        # If current characters dont match \n",
    "        if s1[i] != s2[j]: \n",
    "            if count == 1: \n",
    "                return false \n",
    "  \n",
    "            # If length of one string is \n",
    "            # more, then only possible edit \n",
    "            # is to remove a character \n",
    "            if m > n: \n",
    "                i+=1\n",
    "            elif m < n: \n",
    "                j+=1\n",
    "            else:    # If lengths of both strings is same \n",
    "                i+=1\n",
    "                j+=1\n",
    "  \n",
    "            # Increment count of edits \n",
    "            count+=1\n",
    "  \n",
    "        else:    # if current characters match \n",
    "            i+=1\n",
    "            j+=1\n",
    "  \n",
    "    # if last character is extra in any string \n",
    "    if i < m or j < n: \n",
    "        count+=1\n",
    "  \n",
    "    return count == 1\n",
    "  \n",
    "# Driver program \n",
    "s1 = \"gfgh\"\n",
    "s2 = \"gf\"\n",
    "if isEditDistanceOne(s1, s2): \n",
    "    print (\"Yes\")\n",
    "else: \n",
    "    print (\"No\")\n",
    "  "
   ]
  },
  {
   "cell_type": "code",
   "execution_count": null,
   "metadata": {
    "collapsed": true
   },
   "outputs": [],
   "source": [
    "https://codereview.stackexchange.com/questions/141281/urlify-a-string-using-python?rq=1"
   ]
  }
 ],
 "metadata": {
  "kernelspec": {
   "display_name": "Python 3",
   "language": "python",
   "name": "python3"
  },
  "language_info": {
   "codemirror_mode": {
    "name": "ipython",
    "version": 3
   },
   "file_extension": ".py",
   "mimetype": "text/x-python",
   "name": "python",
   "nbconvert_exporter": "python",
   "pygments_lexer": "ipython3",
   "version": "3.6.3"
  }
 },
 "nbformat": 4,
 "nbformat_minor": 2
}
