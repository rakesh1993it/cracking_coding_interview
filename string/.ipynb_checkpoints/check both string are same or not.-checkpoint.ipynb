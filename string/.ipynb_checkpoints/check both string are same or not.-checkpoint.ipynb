{
 "cells": [
  {
   "cell_type": "markdown",
   "metadata": {},
   "source": [
    "# Check both string are same or not."
   ]
  },
  {
   "cell_type": "code",
   "execution_count": 3,
   "metadata": {},
   "outputs": [
    {
     "data": {
      "text/plain": [
       "'both string are same'"
      ]
     },
     "execution_count": 3,
     "metadata": {},
     "output_type": "execute_result"
    }
   ],
   "source": [
    "# Approach 1\n",
    "\n",
    "\n",
    "def both_are_same_str(a, b):\n",
    "    \n",
    "    temp_1 = set()\n",
    "    temp_2 = set()\n",
    "    \n",
    "    for char1 in a:\n",
    "        if char1 in temp_1:\n",
    "            return False\n",
    "        temp_1.add(char1)\n",
    "    #return True\n",
    "    \n",
    "    for char2 in b:\n",
    "        if char2 in temp_2:\n",
    "            return False\n",
    "        temp_2.add(char2)\n",
    "    #return True\n",
    "\n",
    "    if temp_1 == temp_2:\n",
    "        return \"both string are same\"\n",
    "   \n",
    "    else:\n",
    "        return \"they are diffrent\"\n",
    " \n",
    "A = \"abcdef\"\n",
    "B = \"abdfec\"\n",
    "both_are_same_str(A,B)"
   ]
  },
  {
   "cell_type": "code",
   "execution_count": 5,
   "metadata": {},
   "outputs": [
    {
     "name": "stdout",
     "output_type": "stream",
     "text": [
      "Permutation one of each other\n"
     ]
    }
   ],
   "source": [
    "# approach 2\n",
    "\n",
    "def both_are_same(str_a, str_b):\n",
    "    n1 = len(str_a)\n",
    "    n2 = len(str_b)\n",
    "    if n1 != n2:\n",
    "        return False\n",
    "    \n",
    "    a = sorted(str_a)\n",
    "    str_a = \" \".join(a)\n",
    "    b = sorted(str_b)\n",
    "    str_b = \" \".join(b)\n",
    "    \n",
    "    for i in range(0, n1,1):\n",
    "        #check both character are same or not\n",
    "        if str_a[i] != str_b[i]:\n",
    "            return False\n",
    "    return True\n",
    "\n",
    "if __name__ == '__main__':\n",
    "    str1 = \"tetw\"\n",
    "    str2 = \"ttew\"\n",
    "    if (both_are_same(str1, str2)):\n",
    "        print(\"Permutation one of each other\")\n",
    "    else:\n",
    "        print(\"Not Permutation one of each other\")"
   ]
  },
  {
   "cell_type": "code",
   "execution_count": null,
   "metadata": {
    "collapsed": true
   },
   "outputs": [],
   "source": []
  }
 ],
 "metadata": {
  "kernelspec": {
   "display_name": "Python 3",
   "language": "python",
   "name": "python3"
  },
  "language_info": {
   "codemirror_mode": {
    "name": "ipython",
    "version": 3
   },
   "file_extension": ".py",
   "mimetype": "text/x-python",
   "name": "python",
   "nbconvert_exporter": "python",
   "pygments_lexer": "ipython3",
   "version": "3.6.3"
  }
 },
 "nbformat": 4,
 "nbformat_minor": 2
}
