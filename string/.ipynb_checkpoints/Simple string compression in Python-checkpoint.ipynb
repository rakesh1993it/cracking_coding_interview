{
 "cells": [
  {
   "cell_type": "markdown",
   "metadata": {},
   "source": [
    "# Implement a method to perform basic string compression using the counts of repeated characters.\n",
    "For example, the string aabcccccaaa would become a2b1c5a3. If the compressed string would not become smaller than \n",
    "the original string your method should return the original string.\n",
    "You can assume the string has only uppercase and lowercase letters (a-z)."
   ]
  },
  {
   "cell_type": "code",
   "execution_count": 7,
   "metadata": {},
   "outputs": [
    {
     "name": "stdout",
     "output_type": "stream",
     "text": [
      "a2b1c5d3\n"
     ]
    }
   ],
   "source": [
    "def compression(string):\n",
    "    temp = {}\n",
    "    result =\"\"\n",
    "    for x in string:\n",
    "        if x in temp:\n",
    "            temp[x] += 1\n",
    "        else:\n",
    "            temp[x] = 1\n",
    "            \n",
    "    for key,val in temp.items():\n",
    "        result += str(key) + str(val)\n",
    "        \n",
    "    return result\n",
    "\n",
    "if __name__ == \"__main__\":\n",
    "    s = \"aabcccccddd\"\n",
    "    print(compression(s))\n"
   ]
  },
  {
   "cell_type": "code",
   "execution_count": null,
   "metadata": {
    "collapsed": true
   },
   "outputs": [],
   "source": []
  }
 ],
 "metadata": {
  "kernelspec": {
   "display_name": "Python 3",
   "language": "python",
   "name": "python3"
  },
  "language_info": {
   "codemirror_mode": {
    "name": "ipython",
    "version": 3
   },
   "file_extension": ".py",
   "mimetype": "text/x-python",
   "name": "python",
   "nbconvert_exporter": "python",
   "pygments_lexer": "ipython3",
   "version": "3.6.3"
  }
 },
 "nbformat": 4,
 "nbformat_minor": 2
}
